{
 "cells": [
  {
   "cell_type": "code",
   "execution_count": null,
   "metadata": {},
   "outputs": [],
   "source": [
    "# Import pandas and matplotlib\n",
    "import pandas as pd\n",
    "import matplotlib.pyplot as plt\n",
    "import seaborn as sns\n",
    "\n",
    "# Read the csv file into a dataframe\n",
    "df1 = pd.read_csv(\"output_tuh_2700hps.csv\")\n",
    "df2 = pd.read_csv(\"output_nmt_2100hps.csv\")\n",
    "# df2 = pd.read_csv(\"output_all.csv\")\n",
    "\n",
    "\n",
    "\n",
    "# # Sort the dataframe by day in ascending order\n",
    "# df = df.sort_values(by=\"ids_to_load_train2\", ascending=True) # Replace day with the column name of your csv file\n",
    "df2"
   ]
  },
  {
   "cell_type": "code",
   "execution_count": null,
   "metadata": {},
   "outputs": [],
   "source": [
    "## model selection\n",
    "# df2_SeedMean = df2.groupby(['model_name','ids_to_load_train2','lr', 'weight_decay','batch_size',]).mean()\n",
    "# df2_SeedMean"
   ]
  },
  {
   "cell_type": "code",
   "execution_count": null,
   "metadata": {},
   "outputs": [],
   "source": [
    "# group the dataframe by model_name\n",
    "df_group = df2_SeedMean.groupby(['model_name','ids_to_load_train2'])\n",
    "\n",
    "# create an empty list to store the df_max values\n",
    "# create an empty list to store the df_max values and the group names\n",
    "df_max_list = []\n",
    "models_list = []\n",
    "n_of_list = []\n",
    "hps_list = []\n",
    "\n",
    "# loop through each group and find the row with the maximum value of b_acc_nmt\n",
    "for name, group in df_group:\n",
    "  df_max = group.loc[group['b_acc_nmt'].idxmax()]\n",
    "  # append the df_max values and the group names to the lists\n",
    "  df_max_list.append(df_max)\n",
    "  models_list.append(df_max.name[0])\n",
    "  n_of_list.append(df_max.name[1])\n",
    "  hps_list.append(df_max.name[2:])\n",
    "\n",
    "# create a new dataframe from the list of df_max values\n",
    "df_new = pd.DataFrame(df_max_list)\n",
    "\n",
    "# add a new column with the group names\n",
    "df_new['model_name'] = models_list\n",
    "df_new['ids_to_load_train2'] = n_of_list\n",
    "df_new['hps'] = hps_list\n",
    "\n",
    "\n",
    "\n",
    "# display the result\n",
    "df_new[:5]"
   ]
  },
  {
   "cell_type": "code",
   "execution_count": null,
   "metadata": {},
   "outputs": [],
   "source": [
    "import seaborn as sns\n",
    "\n",
    "sns.set(rc={\"figure.figsize\": (10, 8)}) #width=10, height=8\n",
    "\n",
    "sns.lineplot(x=\"ids_to_load_train2\", y=\"b_acc_nmt\", hue=\"model_name\", data=df_new)\n",
    "\n",
    "handles, labels = plt.gca().get_legend_handles_labels()\n",
    "print(handles,labels)\n",
    "\n",
    "\n",
    "# change legend title and labels\n",
    "# plt.legend(title='Models', handles=[handles[i] for i in [3,2,0,1]], labels=['EEGNet(2K)', 'Shallow(36K)', 'TCN(42K)', 'Deep4Net(277K)'],loc='lower right')\n",
    "plt.legend(title='Models', handles=handles, labels=labels,loc='lower right')\n",
    "plt.title('NMT dataset')\n",
    "plt.xlabel('Number of training samples')\n",
    "plt.ylabel('Balanced accuracy')\n",
    "plt.show()"
   ]
  },
  {
   "cell_type": "code",
   "execution_count": null,
   "metadata": {},
   "outputs": [],
   "source": [
    "max_row"
   ]
  },
  {
   "cell_type": "code",
   "execution_count": null,
   "metadata": {},
   "outputs": [],
   "source": [
    "print(df_new[\"b_acc_nmt\"].max())\n",
    "max_row = df_new['b_acc_nmt'].idxmax()\n",
    "df_new.loc[max_row]"
   ]
  },
  {
   "cell_type": "code",
   "execution_count": null,
   "metadata": {},
   "outputs": [],
   "source": [
    "print(df2[\"b_acc_nmt\"].max())\n",
    "max_row = df2['b_acc_nmt'].idxmax()\n",
    "df2.loc[max_row]\n"
   ]
  },
  {
   "cell_type": "code",
   "execution_count": null,
   "metadata": {},
   "outputs": [],
   "source": [
    "df1[\"b_acc_tuh\"].max()"
   ]
  },
  {
   "cell_type": "code",
   "execution_count": null,
   "metadata": {},
   "outputs": [],
   "source": [
    "print(df1[\"b_acc_tuh\"].max())\n",
    "max_row = df1['b_acc_tuh'].idxmax()\n",
    "df1.loc[max_row]"
   ]
  },
  {
   "cell_type": "code",
   "execution_count": null,
   "metadata": {},
   "outputs": [],
   "source": [
    "df1_melted = pd.melt(df1,id_vars=['model_name'],value_vars=['b_acc_tuh','b_acc_nmt'],\n",
    "             var_name='datasets', value_name='b_acc')\n",
    "df1_melted\n",
    "\n",
    "plt.figure(figsize=(9,9)) #for a bigger image\n",
    "sns.boxplot(x=\"model_name\", y=\"b_acc\", hue=\"datasets\", data=df1_melted, palette=\"Set1\")\n",
    "\n",
    "\n",
    "# change legend title and labels\n",
    "handles, labels = plt.gca().get_legend_handles_labels()\n",
    "# print(labels)\n",
    "plt.legend(title='Models', handles=handles, labels=['TUAB (seen)', 'NMT (unseen)'],loc='lower right')\n",
    "plt.title('Trained on the TUAB dataset')\n",
    "plt.xlabel('Models')\n",
    "plt.ylabel('Balanced accuracy')\n",
    "plt.show()"
   ]
  },
  {
   "cell_type": "code",
   "execution_count": null,
   "metadata": {},
   "outputs": [],
   "source": [
    "df2_melted = pd.melt(df2,id_vars=['model_name'],value_vars=['b_acc_nmt','b_acc_tuh'],\n",
    "             var_name='datasets', value_name='b_acc')\n",
    "df2_melted\n",
    "\n",
    "plt.figure(figsize=(9,9)) #for a bigger image\n",
    "sns.boxplot(x=\"model_name\", y=\"b_acc\", hue=\"datasets\", data=df2_melted, palette=\"Set1\")\n",
    "\n",
    "# change legend title and labels\n",
    "handles, labels = plt.gca().get_legend_handles_labels()\n",
    "# print(labels)\n",
    "plt.legend(title='Models', handles=handles, labels=['NMT (seen)', 'TUAB (unseen)'],loc='lower right')\n",
    "plt.title('Trained on the NMT dataset')\n",
    "plt.xlabel('Models')\n",
    "plt.ylabel('Balanced accuracy')\n",
    "plt.show()"
   ]
  },
  {
   "cell_type": "code",
   "execution_count": null,
   "metadata": {},
   "outputs": [],
   "source": [
    "df1_melted = pd.melt(df1,id_vars=['model_name'],value_vars=['b_acc_tuh','b_acc_nmt'],\n",
    "             var_name='datasets', value_name='b_acc')\n",
    "df1_melted\n",
    "\n",
    "df2_melted = pd.melt(df2,id_vars=['model_name'],value_vars=['b_acc_nmt','b_acc_tuh'],\n",
    "             var_name='datasets', value_name='b_acc')\n",
    "df2_melted\n",
    "\n",
    "plt.figure(figsize=(18,9)) #for a bigger image\n",
    "# create a 1x2 grid of subplots\n",
    "plt.subplot(1, 2, 1) # first subplot\n",
    "sns.boxplot(x=\"model_name\", y=\"b_acc\", hue=\"datasets\", data=df1_melted, palette=\"Set1\")\n",
    "\n",
    "# change legend title and labels\n",
    "handles, labels = plt.gca().get_legend_handles_labels()\n",
    "# print(labels)\n",
    "plt.legend(title='Models', handles=handles, labels=['TUAB (seen)', 'NMT (unseen)'],loc='lower right')\n",
    "plt.title('Trained on the TUAB dataset')\n",
    "plt.xlabel('Models')\n",
    "plt.ylabel('Balanced accuracy')\n",
    "plt.ylim(0.4, 0.85)\n",
    "\n",
    "plt.subplot(1, 2, 2) # second subplot\n",
    "sns.boxplot(x=\"model_name\", y=\"b_acc\", hue=\"datasets\", data=df2_melted, palette=\"Set1\")\n",
    "\n",
    "# change legend title and labels\n",
    "handles, labels = plt.gca().get_legend_handles_labels()\n",
    "# print(labels)\n",
    "plt.legend(title='Models', handles=handles, labels=['NMT (seen)', 'TUAB (unseen)'],loc='lower right')\n",
    "plt.title('Trained on the NMT dataset')\n",
    "plt.xlabel('Models')\n",
    "plt.ylabel('Balanced accuracy')\n",
    "plt.ylim(0.4, 0.85)\n",
    "\n",
    "plt.show()\n"
   ]
  },
  {
   "cell_type": "code",
   "execution_count": null,
   "metadata": {},
   "outputs": [],
   "source": [
    "df2.boxplot(column=['b_acc_nmt'],by=\"model_name\", figsize=(12,8))"
   ]
  },
  {
   "cell_type": "code",
   "execution_count": null,
   "metadata": {},
   "outputs": [],
   "source": [
    "df1.boxplot(column=['b_acc_tuh'],by=\"model_name\", figsize=(12,8))"
   ]
  },
  {
   "cell_type": "code",
   "execution_count": null,
   "metadata": {},
   "outputs": [],
   "source": [
    "df1[df1[\"b_acc_tuh\"]>0.83]"
   ]
  },
  {
   "cell_type": "code",
   "execution_count": null,
   "metadata": {},
   "outputs": [],
   "source": [
    "# df.groupby(['model_name','ids_to_load_train']).count()"
   ]
  },
  {
   "cell_type": "code",
   "execution_count": null,
   "metadata": {},
   "outputs": [],
   "source": [
    "df1.replace(to_replace=[\"TCN\", \"Deep4Net\", \"Shallow\", \"EEGNet\"], value=[\"42K (TCN)\", \"277K (Deep4Net)\", \"36K (ShallowNet)\", \"2k (EEGNet)\"], inplace=True)\n",
    "df2.replace(to_replace=[\"TCN\", \"Deep4Net\", \"Shallow\", \"EEGNet\"], value=[\"42K (TCN)\", \"277K (Deep4Net)\", \"36K (ShallowNet)\", \"2k (EEGNet)\"], inplace=True)"
   ]
  },
  {
   "cell_type": "code",
   "execution_count": null,
   "metadata": {},
   "outputs": [],
   "source": [
    "import seaborn as sns\n",
    "\n",
    "sns.set(rc={\"figure.figsize\": (10, 8)}) #width=10, height=8\n",
    "\n",
    "sns.lineplot(x=\"ids_to_load_train\", y=\"b_acc_tuh\", hue=\"model_name\", data=df[df['ids_to_load_train2'] == 1])\n",
    "\n",
    "handles, labels = plt.gca().get_legend_handles_labels()\n",
    "print(labels)\n",
    "\n",
    "# change legend title and labels\n",
    "plt.legend(title='Models', handles=handles, labels=labels,loc='lower right')\n",
    "plt.title('TUAB dataset')\n",
    "plt.xlabel('Number of training samples')\n",
    "plt.ylabel('Balanced accuracy')\n",
    "plt.show()"
   ]
  },
  {
   "cell_type": "code",
   "execution_count": null,
   "metadata": {},
   "outputs": [],
   "source": [
    "import seaborn as sns\n",
    "\n",
    "sns.set(rc={\"figure.figsize\": (10, 8)}) #width=10, height=8\n",
    "\n",
    "sns.lineplot(x=\"ids_to_load_train2\", y=\"b_acc_nmt\", hue=\"model_name\", data=df[df['ids_to_load_train'] == 0])\n",
    "\n",
    "handles, labels = plt.gca().get_legend_handles_labels()\n",
    "print(handles,labels)\n",
    "\n",
    "\n",
    "# change legend title and labels\n",
    "# plt.legend(title='Models', handles=[handles[i] for i in [3,2,0,1]], labels=['EEGNet(2K)', 'Shallow(36K)', 'TCN(42K)', 'Deep4Net(277K)'],loc='lower right')\n",
    "plt.legend(title='Models', handles=handles, labels=labels,loc='lower right')\n",
    "plt.title('NMT dataset')\n",
    "plt.xlabel('Number of training samples')\n",
    "plt.ylabel('Balanced accuracy')\n",
    "plt.show()"
   ]
  },
  {
   "cell_type": "code",
   "execution_count": null,
   "metadata": {},
   "outputs": [],
   "source": [
    "sns.set(rc={\"figure.figsize\": (10, 8)}) #width=10, height=8\n",
    "\n",
    "g = sns.scatterplot(x=\"b_acc_nmt\", y=\"b_acc_tuh\", hue=\"model_name\", size='n_of_params', data=df1[df1['ids_to_load_train2'] == 0])\n",
    "\n",
    "acc_max = df2[df2['ids_to_load_train'] == 0].max()[\"b_acc_nmt\"]\n",
    "acc_min = df2[df2['ids_to_load_train'] == 0].min()[\"b_acc_nmt\"]\n",
    "plt.axvline(x=acc_min, color='red', linestyle='--')\n",
    "plt.axvline(x=acc_max, color='blue', linestyle='--')\n",
    "\n",
    "handles, labels = plt.gca().get_legend_handles_labels()\n",
    "subs = {'ids_to_load_train': '# 0f samples in training', 'model_name': 'Models'}\n",
    "labels = list(map(subs.get, labels, labels))\n",
    "print(labels)\n",
    "\n",
    "# change legend title and labels\n",
    "# plt.legend(handles=[handles[i] for i in [0,4,3,1,2,5,6,7,8,9,10]], labels=['Models', 'EEGNet(2K)', 'Shallow(36K)', 'TCN(42K)', 'Deep4Net(277K)', '# 0f samples in training', '400', '800', '1200', '1600', '2000'],loc='lower right')\n",
    "plt.legend(handles=handles, labels=labels,loc='lower right')\n",
    "plt.title('Trained on the TUAB dataset')\n",
    "plt.xlabel('Balanced accuracy on the NMT dataset')\n",
    "plt.ylabel('Balanced accuracy on the TUAB dataset')\n",
    "plt.show()"
   ]
  },
  {
   "cell_type": "code",
   "execution_count": null,
   "metadata": {},
   "outputs": [],
   "source": [
    "sns.set(rc={\"figure.figsize\": (10, 8)}) #width=10, height=8\n",
    "\n",
    "g = sns.scatterplot(x=\"b_acc_tuh\", y=\"b_acc_nmt\", hue=\"model_name\", size='n_of_params', data=df2[df2['ids_to_load_train'] == 0])\n",
    "\n",
    "acc_max = df1[df1['ids_to_load_train2'] == 0].max()[\"b_acc_tuh\"]\n",
    "acc_min = df1[df1['ids_to_load_train2'] == 0].min()[\"b_acc_tuh\"]\n",
    "# plt.axvline(x=acc_min, color='red', linestyle='--')\n",
    "plt.axvline(x=acc_max, color='blue', linestyle='--')\n",
    "\n",
    "\n",
    "handles, labels = plt.gca().get_legend_handles_labels()\n",
    "subs = {'ids_to_load_train': '# 0f samples in training', 'model_name': 'Models'}\n",
    "labels = list(map(subs.get, labels, labels))\n",
    "print(labels)\n",
    "\n",
    "# change legend title and labels\n",
    "# plt.legend(handles=[handles[i] for i in [0,4,3,1,2,5,6,7,8,9,10]], labels=['Models', 'EEGNet(2K)', 'Shallow(36K)', 'TCN(42K)', 'Deep4Net(277K)', '# 0f samples in training', '400', '800', '1200', '1600', '2000'],loc='upper right')\n",
    "plt.legend(handles=handles, labels=labels,loc='lower right')\n",
    "plt.title('Trained on the NMT dataset')\n",
    "plt.xlabel('Balanced accuracy on the TUAB dataset')\n",
    "plt.ylabel('Balanced accuracy on the NMT dataset')\n",
    "plt.show()"
   ]
  },
  {
   "cell_type": "code",
   "execution_count": null,
   "metadata": {},
   "outputs": [],
   "source": [
    "data"
   ]
  },
  {
   "cell_type": "code",
   "execution_count": null,
   "metadata": {},
   "outputs": [],
   "source": [
    "sns.set(rc={\"figure.figsize\": (10, 8)}) #width=10, height=8\n",
    "\n",
    "data=df2[df2['ids_to_load_train'] == 0]\n",
    "data=data.groupby(['model_name','ids_to_load_train']).mean()\n",
    "\n",
    "# Set the palette to \"pastel\"\n",
    "# sns.set_palette(\"Set2\")\n",
    "\n",
    "g = sns.scatterplot(x=\"b_acc_nmt\", y=\"b_acc_tuh\", hue=\"model_name\", size='ids_to_load_train', data=data)\n",
    "# ,palette=sns.cubehelix_palette(start=2, rot=0, dark=0, light=.95, reverse=True, as_cmap=True))\n",
    "\n",
    "acc_max = df[df['ids_to_load_train'] == 1].max()[\"b_acc_nmt\"]\n",
    "acc_min = df[df['ids_to_load_train'] == 1].min()[\"b_acc_nmt\"]\n",
    "plt.axvline(x=acc_min, color='red', linestyle='--')\n",
    "plt.axvline(x=acc_max, color='blue', linestyle='--')\n",
    "\n",
    "handles, labels = plt.gca().get_legend_handles_labels()\n",
    "subs = {'ids_to_load_train': '# 0f samples in training', 'model_name': 'Models'}\n",
    "labels = list(map(subs.get, labels, labels))\n",
    "print(labels)\n",
    "\n",
    "# change legend title and labels\n",
    "# plt.legend(handles=[handles[i] for i in [0,4,3,1,2,5,6,7,8,9,10]], labels=['Models', 'EEGNet(2K)', 'Shallow(36K)', 'TCN(42K)', 'Deep4Net(277K)', '# 0f samples in training', '400', '800', '1200', '1600', '2000'],loc='lower right')\n",
    "plt.legend(handles=handles, labels=labels,loc='lower right')\n",
    "plt.title('Trained on the TUAB dataset')\n",
    "plt.xlabel('Balanced accuracy on the NMT dataset')\n",
    "plt.ylabel('Balanced accuracy on the TUAB dataset')\n",
    "plt.show()"
   ]
  },
  {
   "cell_type": "code",
   "execution_count": null,
   "metadata": {},
   "outputs": [],
   "source": [
    "sns.set(rc={\"figure.figsize\": (10, 8)}) #width=10, height=8\n",
    "\n",
    "data=df[df['ids_to_load_train'] == 1]\n",
    "data=data.groupby(['model_name','ids_to_load_train2']).mean()\n",
    "g = sns.scatterplot(x=\"b_acc_tuh\", y=\"b_acc_nmt\", hue=\"model_name\", size='ids_to_load_train2', data=data)\n",
    "\n",
    "acc_max = df[df['ids_to_load_train2'] == 1].max()[\"b_acc_tuh\"]\n",
    "acc_min = df[df['ids_to_load_train2'] == 1].min()[\"b_acc_tuh\"]\n",
    "plt.axvline(x=acc_min, color='red', linestyle='--')\n",
    "plt.axvline(x=acc_max, color='blue', linestyle='--')\n",
    "\n",
    "\n",
    "handles, labels = plt.gca().get_legend_handles_labels()\n",
    "subs = {'ids_to_load_train': '# 0f samples in training', 'model_name': 'Models'}\n",
    "labels = list(map(subs.get, labels, labels))\n",
    "print(labels)\n",
    "\n",
    "# change legend title and labels\n",
    "# plt.legend(handles=[handles[i] for i in [0,4,3,1,2,5,6,7,8,9,10]], labels=['Models', 'EEGNet(2K)', 'Shallow(36K)', 'TCN(42K)', 'Deep4Net(277K)', '# 0f samples in training', '400', '800', '1200', '1600', '2000'],loc='upper right')\n",
    "plt.legend(handles=handles, labels=labels,loc='lower right')\n",
    "plt.title('Trained on the NMT dataset')\n",
    "plt.xlabel('Balanced accuracy on the TUAB dataset')\n",
    "plt.ylabel('Balanced accuracy on the NMT dataset')\n",
    "plt.show()"
   ]
  },
  {
   "cell_type": "code",
   "execution_count": null,
   "metadata": {},
   "outputs": [],
   "source": [
    "df[df[\"ids_to_load_train2\"]==2100]#.max()[\"b_acc_nmt\"]"
   ]
  },
  {
   "cell_type": "code",
   "execution_count": null,
   "metadata": {},
   "outputs": [],
   "source": [
    "sns.set(rc={\"figure.figsize\": (10, 8)}) #width=10, height=8\n",
    "\n",
    "g = sns.scatterplot(x=\"b_acc_nmt\", y=\"b_acc_tuh\", hue=\"model_name\", size='ids_to_load_train', data=df)#[df['ids_to_load_train'] == 0])\n",
    "\n",
    "acc_max = df[df['ids_to_load_train'] == 0].max()[\"b_acc_nmt\"]\n",
    "acc_min = df[df['ids_to_load_train'] == 0].min()[\"b_acc_nmt\"]\n",
    "plt.axvline(x=acc_min, color='red', linestyle='--')\n",
    "plt.axvline(x=acc_max, color='blue', linestyle='--')\n",
    "\n",
    "handles, labels = plt.gca().get_legend_handles_labels()\n",
    "subs = {'ids_to_load_train': '# 0f samples in training', 'model_name': 'Models'}\n",
    "labels = list(map(subs.get, labels, labels))\n",
    "print(labels)\n",
    "\n",
    "# change legend title and labels\n",
    "# plt.legend(handles=[handles[i] for i in [0,4,3,1,2,5,6,7,8,9,10]], labels=['Models', 'EEGNet(2K)', 'Shallow(36K)', 'TCN(42K)', 'Deep4Net(277K)', '# 0f samples in training', '400', '800', '1200', '1600', '2000'],loc='lower right')\n",
    "plt.legend(handles=handles, labels=labels,loc='lower left')\n",
    "plt.title('Trained on the NMT dataset')\n",
    "plt.xlabel('Balanced accuracy on the NMT dataset')\n",
    "plt.ylabel('Balanced accuracy on the TUAB dataset')\n",
    "plt.xlim(0.65, 0.77)\n",
    "plt.show()"
   ]
  },
  {
   "cell_type": "code",
   "execution_count": null,
   "metadata": {},
   "outputs": [],
   "source": []
  }
 ],
 "metadata": {
  "kernelspec": {
   "display_name": "braindecode",
   "language": "python",
   "name": "braindecode"
  },
  "language_info": {
   "codemirror_mode": {
    "name": "ipython",
    "version": 3
   },
   "file_extension": ".py",
   "mimetype": "text/x-python",
   "name": "python",
   "nbconvert_exporter": "python",
   "pygments_lexer": "ipython3",
   "version": "3.7.4"
  },
  "orig_nbformat": 4
 },
 "nbformat": 4,
 "nbformat_minor": 2
}
