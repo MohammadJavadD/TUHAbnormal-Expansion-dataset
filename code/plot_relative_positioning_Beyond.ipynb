{
  "cells": [
    {
      "cell_type": "code",
      "execution_count": 1,
      "metadata": {
        "collapsed": false
      },
      "outputs": [],
      "source": [
        "%matplotlib inline"
      ]
    },
    {
      "cell_type": "markdown",
      "metadata": {},
      "source": [
        "\n",
        "# Self-supervised learning on EEG with relative positioning\n",
        "\n",
        "This example shows how to train a neural network with self-supervision on sleep\n",
        "EEG data. We follow the relative positioning approach of [1]_ on the openly\n",
        "accessible Sleep Physionet dataset [2]_ [3]_.\n",
        "\n",
        ".. topic:: Self-supervised learning\n",
        "\n",
        "    Self-supervised learning (SSL) is a learning paradigm that leverages\n",
        "    unlabelled data to train neural networks. First, neural networks are\n",
        "    trained on a \"pretext task\" which uses unlabelled data only. The pretext\n",
        "    task is designed based on a prior understanding of the data under study\n",
        "    (e.g., EEG has an underlying autocorrelation struture) and such that the\n",
        "    processing required to perform well on this pretext task is related to the\n",
        "    processing required to perform well on another task of interest.\n",
        "    Once trained, these neural networks can be reused as feature extractors or\n",
        "    weight initialization in a \"downstream task\", which is the task that we are\n",
        "    actually interested in (e.g., sleep staging). The pretext task step can\n",
        "    help reduce the quantity of labelled data needed to perform well on the\n",
        "    downstream task and/or improve downstream performance as compared to a\n",
        "    strictly supervised approach [1]_.\n",
        "\n",
        "Here, we use relative positioning (RP) as our pretext task, and perform sleep\n",
        "staging as our downstream task. RP is a simple SSL task, in which a neural\n",
        "network is trained to predict whether two randomly sampled EEG windows are\n",
        "close or far apart in time. This method was shown to yield physiologically- and\n",
        "clinically-relevant features and to boost classification performance in\n",
        "low-labels data regimes [1]_.\n",
        "   :depth: 2\n"
      ]
    },
    {
      "cell_type": "code",
      "execution_count": 2,
      "metadata": {
        "collapsed": false
      },
      "outputs": [],
      "source": [
        "# Authors: Hubert Banville <hubert.jbanville@gmail.com>\n",
        "#\n",
        "# License: BSD (3-clause)\n",
        "\n",
        "\n",
        "random_state = 87\n",
        "n_jobs = 4"
      ]
    },
    {
      "cell_type": "markdown",
      "metadata": {},
      "source": [
        "## Loading and preprocessing the dataset\n",
        "\n",
        "### Loading the raw recordings\n",
        "\n",
        "First, we load a few recordings from the Sleep Physionet dataset. Running\n",
        "this example with more recordings should yield better representations and\n",
        "downstream classification performance.\n",
        "\n"
      ]
    },
    {
      "cell_type": "code",
      "execution_count": 3,
      "metadata": {
        "collapsed": false
      },
      "outputs": [],
      "source": [
        "# from braindecode.datasets.sleep_physionet import SleepPhysionet\n",
        "from braindecode.datautil.serialization import  load_concat_dataset\n",
        "import mne\n",
        "mne.set_log_level('ERROR') \n",
        "# dataset = SleepPhysionet(\n",
        "#     subject_ids=[0, 1, 2], recording_ids=[1], crop_wake_mins=30)\n",
        "\n",
        "train_folder = '/home/mila/m/mohammad-javad.darvishi-bayasi/scratch/medical/eeg/tuab/tuab_pp3'\n",
        "train_folder = '/home/mila/m/mohammad-javad.darvishi-bayasi/scratch/medical/eeg/NMT/nmt_pp3'\n",
        "\n",
        "# dataset = load_concat_dataset(train_folder, preload=False,\n",
        "#                             # target_name=['pathological','age','gender'] ,#)\n",
        "#                             # ids_to_load=range(1000)\n",
        "# )"
      ]
    },
    {
      "cell_type": "code",
      "execution_count": 4,
      "metadata": {},
      "outputs": [],
      "source": [
        "\n",
        "# with io.capture_output() as captured:\n",
        "# Load your EEG BIDS dataset using mne-bids\n",
        "from mne_bids import BIDSPath, read_raw_bids\n",
        "import mne\n",
        "mne.set_log_level('ERROR') \n",
        "# bids_root = \"../../CAE/BIDS_EXPORT/\" # change this to your actual path\n",
        "bids_root = \"~/scratch/medical/eeg/CAE/BIDS_EXPORT_ICA\" # change this to your actual path\n",
        "# bids_root = train_folder # change this to your actual path\n",
        "subject = \"1\" # change this to your subject ID\n",
        "# session = \"1\" # change this to your subject ID\n",
        "task = \"aviation\"\n",
        "run = \"1\"\n",
        "#_eeg\n",
        "bids_path = BIDSPath(subject=subject, task=task, run=run, root=bids_root)\n",
        "bids_paths = [BIDSPath(subject=str(subject), task=task, run=str(run), root=bids_root) for subject in range(1,25) for run in range(1,3)]\n",
        "info = [(bids_path.subject, bids_path.run) for bids_path in bids_paths]\n",
        "\n",
        "raw = mne.io.read_epochs_eeglab(bids_path)\n",
        "sfreq = raw.info['sfreq']\n",
        "raws_train = [mne.io.read_epochs_eeglab(bids_path) for bids_path in bids_paths]\n",
        "for raw in raws_train:\n",
        "    raw.events[:,2] = raw.events[:,2] - 1\n",
        "\n",
        "# Convert the epochs to braindecode format using braindecode.datautil.signal_target\n",
        "from misc import create_from_mne_epochs\n",
        "\n",
        "common_ch = sorted(['C4', 'P3', 'F4', 'F8', 'Fp2', 'C3', 'Fz', 'Fp1', 'Cz', 'P4', 'O1', 'O2', 'F3', 'F7', 'Pz'])\n",
        "from braindecode.preprocessing import (\n",
        "    preprocess, Preprocessor, create_fixed_length_windows, scale as multiply)\n",
        "preprocessors = [\n",
        "    # Preprocessor('pick_channels', ch_names=common_ch, ordered=True),\n",
        "    Preprocessor('resample', sfreq=100),\n",
        "]\n",
        "\n",
        "\n",
        "\n",
        "window_size_s = 30\n",
        "sfreq = 100\n",
        "window_size_samples = window_size_s * sfreq\n",
        "\n",
        "windows_dataset = create_from_mne_epochs(\n",
        "    # [raw,raw],\n",
        "    raws_train,\n",
        "    info,\n",
        "    # trial_start_offset_samples=0,\n",
        "    # trial_stop_offset_samples=0,\n",
        "    # window_size_samples=5000,\n",
        "    # window_stride_samples=1000,\n",
        "    # drop_last_window=False,\n",
        "    # descriptions=descriptions,\n",
        "    # start_offset_samples=0,\n",
        "    # stop_offset_samples=None,\n",
        "    # preload=True,\n",
        "    window_size_samples=window_size_samples,\n",
        "    window_stride_samples=window_size_samples,\n",
        "    drop_last_window=True,\n",
        ")\n",
        "\n",
        "windows_dataset = preprocess(\n",
        "    concat_ds=windows_dataset,\n",
        "    preprocessors=preprocessors,\n",
        "    n_jobs=4,\n",
        "    # save_dir='./',\n",
        "    overwrite=True,\n",
        ")\n",
        "\n",
        "\n",
        "\n"
      ]
    },
    {
      "cell_type": "code",
      "execution_count": 5,
      "metadata": {},
      "outputs": [
        {
          "data": {
            "text/plain": [
              "3000"
            ]
          },
          "execution_count": 5,
          "metadata": {},
          "output_type": "execute_result"
        }
      ],
      "source": [
        "raw.events\n",
        "window_size_samples"
      ]
    },
    {
      "cell_type": "code",
      "execution_count": 6,
      "metadata": {},
      "outputs": [
        {
          "data": {
            "text/html": [
              "<div>\n",
              "<style scoped>\n",
              "    .dataframe tbody tr th:only-of-type {\n",
              "        vertical-align: middle;\n",
              "    }\n",
              "\n",
              "    .dataframe tbody tr th {\n",
              "        vertical-align: top;\n",
              "    }\n",
              "\n",
              "    .dataframe thead th {\n",
              "        text-align: right;\n",
              "    }\n",
              "</style>\n",
              "<table border=\"1\" class=\"dataframe\">\n",
              "  <thead>\n",
              "    <tr style=\"text-align: right;\">\n",
              "      <th></th>\n",
              "      <th>i_window_in_trial</th>\n",
              "      <th>i_start_in_trial</th>\n",
              "      <th>i_stop_in_trial</th>\n",
              "      <th>target</th>\n",
              "      <th>subject</th>\n",
              "      <th>run</th>\n",
              "      <th>trial</th>\n",
              "    </tr>\n",
              "  </thead>\n",
              "  <tbody>\n",
              "    <tr>\n",
              "      <th>0</th>\n",
              "      <td>0</td>\n",
              "      <td>14</td>\n",
              "      <td>3014</td>\n",
              "      <td>0</td>\n",
              "      <td>1</td>\n",
              "      <td>1</td>\n",
              "      <td>0</td>\n",
              "    </tr>\n",
              "    <tr>\n",
              "      <th>1</th>\n",
              "      <td>1</td>\n",
              "      <td>3014</td>\n",
              "      <td>6014</td>\n",
              "      <td>0</td>\n",
              "      <td>1</td>\n",
              "      <td>1</td>\n",
              "      <td>0</td>\n",
              "    </tr>\n",
              "    <tr>\n",
              "      <th>2</th>\n",
              "      <td>2</td>\n",
              "      <td>6014</td>\n",
              "      <td>9014</td>\n",
              "      <td>0</td>\n",
              "      <td>1</td>\n",
              "      <td>1</td>\n",
              "      <td>0</td>\n",
              "    </tr>\n",
              "    <tr>\n",
              "      <th>0</th>\n",
              "      <td>0</td>\n",
              "      <td>10907</td>\n",
              "      <td>13907</td>\n",
              "      <td>1</td>\n",
              "      <td>1</td>\n",
              "      <td>1</td>\n",
              "      <td>1</td>\n",
              "    </tr>\n",
              "    <tr>\n",
              "      <th>1</th>\n",
              "      <td>1</td>\n",
              "      <td>13907</td>\n",
              "      <td>16907</td>\n",
              "      <td>1</td>\n",
              "      <td>1</td>\n",
              "      <td>1</td>\n",
              "      <td>1</td>\n",
              "    </tr>\n",
              "    <tr>\n",
              "      <th>...</th>\n",
              "      <td>...</td>\n",
              "      <td>...</td>\n",
              "      <td>...</td>\n",
              "      <td>...</td>\n",
              "      <td>...</td>\n",
              "      <td>...</td>\n",
              "      <td>...</td>\n",
              "    </tr>\n",
              "    <tr>\n",
              "      <th>1</th>\n",
              "      <td>1</td>\n",
              "      <td>57479</td>\n",
              "      <td>60479</td>\n",
              "      <td>0</td>\n",
              "      <td>24</td>\n",
              "      <td>2</td>\n",
              "      <td>5</td>\n",
              "    </tr>\n",
              "    <tr>\n",
              "      <th>2</th>\n",
              "      <td>2</td>\n",
              "      <td>60479</td>\n",
              "      <td>63479</td>\n",
              "      <td>0</td>\n",
              "      <td>24</td>\n",
              "      <td>2</td>\n",
              "      <td>5</td>\n",
              "    </tr>\n",
              "    <tr>\n",
              "      <th>0</th>\n",
              "      <td>0</td>\n",
              "      <td>65372</td>\n",
              "      <td>68372</td>\n",
              "      <td>2</td>\n",
              "      <td>24</td>\n",
              "      <td>2</td>\n",
              "      <td>6</td>\n",
              "    </tr>\n",
              "    <tr>\n",
              "      <th>1</th>\n",
              "      <td>1</td>\n",
              "      <td>68372</td>\n",
              "      <td>71372</td>\n",
              "      <td>2</td>\n",
              "      <td>24</td>\n",
              "      <td>2</td>\n",
              "      <td>6</td>\n",
              "    </tr>\n",
              "    <tr>\n",
              "      <th>2</th>\n",
              "      <td>2</td>\n",
              "      <td>71372</td>\n",
              "      <td>74372</td>\n",
              "      <td>2</td>\n",
              "      <td>24</td>\n",
              "      <td>2</td>\n",
              "      <td>6</td>\n",
              "    </tr>\n",
              "  </tbody>\n",
              "</table>\n",
              "<p>1080 rows × 7 columns</p>\n",
              "</div>"
            ],
            "text/plain": [
              "    i_window_in_trial  i_start_in_trial  i_stop_in_trial  target subject run  \\\n",
              "0                   0                14             3014       0       1   1   \n",
              "1                   1              3014             6014       0       1   1   \n",
              "2                   2              6014             9014       0       1   1   \n",
              "0                   0             10907            13907       1       1   1   \n",
              "1                   1             13907            16907       1       1   1   \n",
              "..                ...               ...              ...     ...     ...  ..   \n",
              "1                   1             57479            60479       0      24   2   \n",
              "2                   2             60479            63479       0      24   2   \n",
              "0                   0             65372            68372       2      24   2   \n",
              "1                   1             68372            71372       2      24   2   \n",
              "2                   2             71372            74372       2      24   2   \n",
              "\n",
              "    trial  \n",
              "0       0  \n",
              "1       0  \n",
              "2       0  \n",
              "0       1  \n",
              "1       1  \n",
              "..    ...  \n",
              "1       5  \n",
              "2       5  \n",
              "0       6  \n",
              "1       6  \n",
              "2       6  \n",
              "\n",
              "[1080 rows x 7 columns]"
            ]
          },
          "execution_count": 6,
          "metadata": {},
          "output_type": "execute_result"
        }
      ],
      "source": [
        "len(windows_dataset.datasets)\n",
        "len(bids_paths)\n",
        "windows_dataset.get_metadata()"
      ]
    },
    {
      "cell_type": "code",
      "execution_count": 7,
      "metadata": {},
      "outputs": [],
      "source": [
        "# # extra step for NMT: define subject_id\n",
        "# import pandas as pd\n",
        "# subject_id = range(len(dataset.datasets))\n",
        "# for d, y in zip(dataset.datasets, subject_id):\n",
        "#     d.description['subject'] = y\n",
        "#     # d.target_name = 'pathological'\n",
        "#     # d.target = d.description[d.target_name]\n",
        "# dataset.set_description(pd.DataFrame([d.description for d in dataset.datasets]), overwrite=True)"
      ]
    },
    {
      "cell_type": "markdown",
      "metadata": {},
      "source": [
        "### Preprocessing\n",
        "\n",
        "Next, we preprocess the raw data. We convert the data to microvolts and apply\n",
        "a lowpass filter. Since the Sleep Physionet data is already sampled at 100 Hz\n",
        "we don't need to apply resampling.\n",
        "\n"
      ]
    },
    {
      "cell_type": "code",
      "execution_count": 8,
      "metadata": {
        "collapsed": false
      },
      "outputs": [],
      "source": [
        "# from braindecode.preprocessing.preprocess import preprocess, Preprocessor\n",
        "# from numpy import multiply\n",
        "\n",
        "# high_cut_hz = 30\n",
        "# # Factor to convert from V to uV\n",
        "# factor = 1e6\n",
        "\n",
        "# preprocessors = [\n",
        "#     Preprocessor(lambda data: multiply(data, factor)),  # Convert from V to uV\n",
        "#     Preprocessor('filter', l_freq=None, h_freq=high_cut_hz, n_jobs=n_jobs)\n",
        "# ]\n",
        "\n",
        "# # Transform the data\n",
        "# preprocess(dataset, preprocessors)"
      ]
    },
    {
      "cell_type": "markdown",
      "metadata": {},
      "source": [
        "### Extracting windows\n",
        "\n",
        "We extract 30-s windows to be used in both the pretext and downstream tasks.\n",
        "As RP (and SSL in general) don't require labelled data, the pretext task\n",
        "could be performed using unlabelled windows extracted with\n",
        ":func:`braindecode.datautil.windower.create_fixed_length_window`.\n",
        "Here however, purely for convenience, we directly extract labelled windows so\n",
        "that we can reuse them in the sleep staging downstream task later.\n",
        "\n"
      ]
    },
    {
      "cell_type": "code",
      "execution_count": 9,
      "metadata": {},
      "outputs": [],
      "source": [
        "# # extra step for Beyond: define subject_id\n",
        "# import pandas as pd\n",
        "# subject_id = range(len(windows_dataset.datasets))\n",
        "# windows_dataset.set_description({\"subject_id\": subject_id}, overwrite=True)\n",
        "# # for d, y in zip(windows_dataset.datasets, subject_id):\n",
        "# #     d.set_description({\"subject\": y})\n",
        "# #     description = {} #pd.DataFrame({\"subject\": y})\n",
        "# #     # d.description['subject'] = y\n",
        "# #     # d.target_name = 'pathological'\n",
        "# #     # d.target = d.description[d.target_name]\n",
        "# # dataset.set_description(pd.DataFrame([d.description for d in dataset.datasets]), overwrite=True)"
      ]
    },
    {
      "cell_type": "code",
      "execution_count": 10,
      "metadata": {},
      "outputs": [],
      "source": [
        "# windows_dataset.description.head()"
      ]
    },
    {
      "cell_type": "code",
      "execution_count": 11,
      "metadata": {},
      "outputs": [
        {
          "data": {
            "text/plain": [
              "1080"
            ]
          },
          "execution_count": 11,
          "metadata": {},
          "output_type": "execute_result"
        }
      ],
      "source": [
        "len(windows_dataset)"
      ]
    },
    {
      "cell_type": "markdown",
      "metadata": {},
      "source": [
        "### Preprocessing windows\n",
        "\n",
        "We also preprocess the windows by applying channel-wise z-score normalization.\n",
        "\n"
      ]
    },
    {
      "cell_type": "code",
      "execution_count": 12,
      "metadata": {
        "collapsed": false
      },
      "outputs": [],
      "source": [
        "from sklearn.preprocessing import scale as standard_scale\n",
        "\n",
        "# preprocess(windows_dataset, [Preprocessor(standard_scale, channel_wise=True)])"
      ]
    },
    {
      "cell_type": "markdown",
      "metadata": {},
      "source": [
        "### Splitting dataset into train, valid and test sets\n",
        "\n",
        "We randomly split the recordings by subject into train, validation and\n",
        "testing sets. We further define a new Dataset class which can receive a pair\n",
        "of indices and return the corresponding windows. This will be needed when\n",
        "training and evaluating on the pretext task.\n",
        "\n"
      ]
    },
    {
      "cell_type": "code",
      "execution_count": 13,
      "metadata": {
        "collapsed": false
      },
      "outputs": [],
      "source": [
        "import numpy as np\n",
        "from sklearn.model_selection import train_test_split\n",
        "from braindecode.datasets import BaseConcatDataset\n",
        "\n",
        "subjects = np.unique(windows_dataset.description['subject'])\n",
        "subj_train, subj_test = train_test_split(\n",
        "    subjects, test_size=0.4, random_state=random_state)\n",
        "subj_valid, subj_test = train_test_split(\n",
        "    subj_test, test_size=0.5, random_state=random_state)\n",
        "\n",
        "\n",
        "class RelativePositioningDataset(BaseConcatDataset):\n",
        "    \"\"\"BaseConcatDataset with __getitem__ that expects 2 indices and a target.\n",
        "    \"\"\"\n",
        "    def __init__(self, list_of_ds):\n",
        "        super().__init__(list_of_ds)\n",
        "        self.return_pair = True\n",
        "\n",
        "    def __getitem__(self, index):\n",
        "        if self.return_pair:\n",
        "            ind1, ind2, y = index\n",
        "            return (super().__getitem__(ind1)[0],\n",
        "                    super().__getitem__(ind2)[0]), y\n",
        "        else:\n",
        "            return super().__getitem__(index)\n",
        "\n",
        "    @property\n",
        "    def return_pair(self):\n",
        "        return self._return_pair\n",
        "\n",
        "    @return_pair.setter\n",
        "    def return_pair(self, value):\n",
        "        self._return_pair = value\n",
        "\n",
        "\n",
        "split_ids = {'train': subj_train, 'valid': subj_valid, 'test': subj_test}\n",
        "splitted = dict()\n",
        "for name, values in split_ids.items():\n",
        "    splitted[name] = RelativePositioningDataset(\n",
        "        [ds for ds in windows_dataset.datasets\n",
        "         if ds.description['subject'] in values])"
      ]
    },
    {
      "cell_type": "code",
      "execution_count": 14,
      "metadata": {},
      "outputs": [],
      "source": [
        "# for ds in windows_dataset.datasets:\n",
        "# #     print(ds.description)\n",
        "\n",
        "# subj_test\n",
        "# df = windows_dataset.get_metadata()\n",
        "# df[df['subject'].isin(subj_test)]"
      ]
    },
    {
      "cell_type": "code",
      "execution_count": 15,
      "metadata": {},
      "outputs": [],
      "source": [
        "# raw.info"
      ]
    },
    {
      "cell_type": "code",
      "execution_count": 16,
      "metadata": {},
      "outputs": [],
      "source": [
        "# splitted['valid'].get_metadata()\n"
      ]
    },
    {
      "cell_type": "markdown",
      "metadata": {},
      "source": [
        "### Creating samplers\n",
        "\n",
        "Next, we need to create samplers. These samplers will be used to randomly\n",
        "sample pairs of examples to train and validate our model with\n",
        "self-supervision.\n",
        "\n",
        "The RP samplers have two main hyperparameters. `tau_pos` and `tau_neg`\n",
        "control the size of the \"positive\" and \"negative\" contexts, respectively.\n",
        "Pairs of windows that are separated by less than `tau_pos` samples will be\n",
        "given a label of `1`, while pairs of windows that are separated by more than\n",
        "`tau_neg` samples will be given a label of `0`. Here, we use the same values\n",
        "as in [1]_, i.e., `tau_pos`= 1 min and `tau_neg`= 15 mins.\n",
        "\n",
        "The samplers also control the number of pairs to be sampled (defined with\n",
        "`n_examples`). This number can be large to help regularize the pretext task\n",
        "training, for instance 2,000 pairs per recording as in [1]_. Here, we use a\n",
        "lower number of 250 pairs per recording to reduce training time.\n",
        "\n"
      ]
    },
    {
      "cell_type": "code",
      "execution_count": 17,
      "metadata": {},
      "outputs": [],
      "source": [
        "# splitted['valid'].get_metadata()#.groupby(['run','subject','trial']).count()"
      ]
    },
    {
      "cell_type": "code",
      "execution_count": 18,
      "metadata": {
        "collapsed": false
      },
      "outputs": [],
      "source": [
        "from braindecode.samplers import RelativePositioningSampler\n",
        "\n",
        "tau_pos, tau_neg = int(sfreq * 0.5 * 60), int(sfreq * 1 * 60)\n",
        "n_examples_train = 500 * len(splitted['train'].datasets)\n",
        "n_examples_valid = 250 * len(splitted['valid'].datasets)\n",
        "n_examples_test = 250 * len(splitted['test'].datasets)\n",
        "\n",
        "train_sampler = RelativePositioningSampler(\n",
        "    splitted['train'].get_metadata(), tau_pos=tau_pos, tau_neg=tau_neg,\n",
        "    n_examples=n_examples_train, same_rec_neg=True, random_state=random_state)\n",
        "valid_sampler = RelativePositioningSampler(\n",
        "    splitted['valid'].get_metadata(), tau_pos=tau_pos, tau_neg=tau_neg,\n",
        "    n_examples=n_examples_valid, same_rec_neg=True, random_state=random_state).presample()\n",
        "test_sampler = RelativePositioningSampler(\n",
        "    splitted['test'].get_metadata(), tau_pos=tau_pos, tau_neg=tau_neg,\n",
        "    n_examples=n_examples_test, same_rec_neg=True, random_state=random_state).presample()"
      ]
    },
    {
      "cell_type": "code",
      "execution_count": 19,
      "metadata": {},
      "outputs": [
        {
          "data": {
            "text/plain": [
              "105000"
            ]
          },
          "execution_count": 19,
          "metadata": {},
          "output_type": "execute_result"
        }
      ],
      "source": [
        "train_sampler.__len__()"
      ]
    },
    {
      "cell_type": "markdown",
      "metadata": {},
      "source": [
        "## Creating the model\n",
        "\n",
        "We can now create the deep learning model. In this tutorial, we use a\n",
        "modified version of the sleep staging architecture introduced in [4]_ -\n",
        "a four-layer convolutional neural network - as our embedder.\n",
        "We change the dimensionality of the last layer to obtain a 100-dimension\n",
        "embedding, use 16 convolutional channels instead of 8, and add batch\n",
        "normalization after both temporal convolution layers.\n",
        "\n",
        "We further wrap the model into a siamese architecture using the\n",
        "# :class:`ContrastiveNet` class defined below. This allows us to train the\n",
        "feature extractor end-to-end.\n",
        "\n"
      ]
    },
    {
      "cell_type": "code",
      "execution_count": 20,
      "metadata": {
        "collapsed": false
      },
      "outputs": [
        {
          "name": "stderr",
          "output_type": "stream",
          "text": [
            "/home/mila/m/mohammad-javad.darvishi-bayasi/.conda/envs/braindecode/lib/python3.8/site-packages/braindecode/util.py:51: UserWarning: torch.backends.cudnn.benchmark was set to True which may results in lack of reproducibility. In some cases to ensure reproducibility you may need to set torch.backends.cudnn.benchmark to False.\n",
            "  warn(\n"
          ]
        }
      ],
      "source": [
        "import torch\n",
        "from torch import nn\n",
        "from braindecode.util import set_random_seeds\n",
        "from braindecode.models import SleepStagerChambon2018\n",
        "from braindecode.models import Deep4Net,ShallowFBCSPNet,EEGNetv4, TCN\n",
        "\n",
        "\n",
        "device = 'cuda' if torch.cuda.is_available() else 'cpu'\n",
        "if device == 'cuda':\n",
        "    torch.backends.cudnn.benchmark = True\n",
        "# Set random seed to be able to roughly reproduce results\n",
        "# Note that with cudnn benchmark set to True, GPU indeterminism\n",
        "# may still make results substantially different between runs.\n",
        "# To obtain more consistent results at the cost of increased computation time,\n",
        "# you can set `cudnn_benchmark=False` in `set_random_seeds`\n",
        "# or remove `torch.backends.cudnn.benchmark = True`\n",
        "set_random_seeds(seed=random_state, cuda=device == 'cuda')\n",
        "\n",
        "# Extract number of channels and time steps from dataset\n",
        "n_channels, input_size_samples = windows_dataset[0][0].shape\n",
        "emb_size = 100\n",
        "\n",
        "emb = SleepStagerChambon2018(\n",
        "    n_channels,\n",
        "    sfreq,\n",
        "    n_classes=emb_size,\n",
        "    n_conv_chs=16,\n",
        "    input_size_s=input_size_samples / sfreq,\n",
        "    dropout=0,\n",
        "    apply_batch_norm=True\n",
        ")\n",
        "\n",
        "n_start_chans = 25\n",
        "final_conv_length = 1\n",
        "n_chan_factor = 2\n",
        "stride_before_pool = True\n",
        "emb = Deep4Net(\n",
        "            n_channels, n_classes=emb_size,\n",
        "            n_filters_time=n_start_chans,\n",
        "            n_filters_spat=n_start_chans,\n",
        "            input_window_samples=input_size_samples,\n",
        "            n_filters_2=int(n_start_chans * n_chan_factor),\n",
        "            n_filters_3=int(n_start_chans * (n_chan_factor ** 2.0)),\n",
        "            n_filters_4=int(n_start_chans * (n_chan_factor ** 3.0)),\n",
        "            final_conv_length='auto',#final_conv_length,\n",
        "            stride_before_pool=stride_before_pool,\n",
        "            drop_prob=0.25)\n",
        "\n",
        "class ContrastiveNet(nn.Module):\n",
        "    \"\"\"Contrastive module with linear layer on top of siamese embedder.\n",
        "\n",
        "    Parameters\n",
        "    ----------\n",
        "    emb : nn.Module\n",
        "        Embedder architecture.\n",
        "    emb_size : int\n",
        "        Output size of the embedder.\n",
        "    dropout : float\n",
        "        Dropout rate applied to the linear layer of the contrastive module.\n",
        "    \"\"\"\n",
        "    def __init__(self, emb, emb_size, dropout=0.5):\n",
        "        super().__init__()\n",
        "        self.emb = emb\n",
        "        self.clf = nn.Sequential(\n",
        "            nn.Dropout(dropout),\n",
        "            nn.Linear(emb_size, 1)\n",
        "        )\n",
        "\n",
        "    def forward(self, x):\n",
        "        x1, x2 = x\n",
        "        z1, z2 = self.emb(x1), self.emb(x2)\n",
        "        return self.clf(torch.abs(z1 - z2)).flatten()\n",
        "\n",
        "\n",
        "model = ContrastiveNet(emb, emb_size).to(device)"
      ]
    },
    {
      "cell_type": "markdown",
      "metadata": {},
      "source": [
        "## Training\n",
        "\n",
        "We can now train our network on the pretext task. We use similar\n",
        "hyperparameters as in [1]_, but reduce the number of epochs and\n",
        "increase the learning rate to account for the smaller setting of\n",
        "this example.\n",
        "\n"
      ]
    },
    {
      "cell_type": "code",
      "execution_count": 21,
      "metadata": {
        "collapsed": false
      },
      "outputs": [
        {
          "name": "stdout",
          "output_type": "stream",
          "text": [
            "best_model_params_2023-09-20 12:19:10.798769.pt\n",
            "  epoch    train_acc    train_loss    valid_acc    valid_loss    cp       dur\n",
            "-------  -----------  ------------  -----------  ------------  ----  --------\n",
            "      1       \u001b[36m0.5496\u001b[0m        \u001b[32m0.7026\u001b[0m       \u001b[35m0.5478\u001b[0m        \u001b[31m0.6870\u001b[0m     +  208.8858\n",
            "      2       \u001b[36m0.8258\u001b[0m        \u001b[32m0.3831\u001b[0m       0.5173        0.7937        162.9636\n",
            "      3       \u001b[36m0.9364\u001b[0m        \u001b[32m0.1744\u001b[0m       0.5074        0.8117        165.2366\n",
            "      4       \u001b[36m0.9672\u001b[0m        \u001b[32m0.0965\u001b[0m       0.4979        1.0087        175.0811\n",
            "      5       \u001b[36m0.9773\u001b[0m        \u001b[32m0.0712\u001b[0m       0.5350        0.9463        166.9183\n",
            "      6       \u001b[36m0.9848\u001b[0m        \u001b[32m0.0463\u001b[0m       0.5020        1.0767        169.8884\n",
            "      7       \u001b[36m0.9875\u001b[0m        \u001b[32m0.0393\u001b[0m       0.4999        0.9290        166.2715\n",
            "      8       \u001b[36m0.9880\u001b[0m        \u001b[32m0.0372\u001b[0m       0.5004        0.9024        164.7110\n",
            "      9       0.9870        0.0427       0.5253        0.7916        166.5877\n",
            "     10       \u001b[36m0.9916\u001b[0m        \u001b[32m0.0264\u001b[0m       0.5230        0.8340        168.0893\n"
          ]
        }
      ],
      "source": [
        "import os\n",
        "\n",
        "from skorch.helper import predefined_split\n",
        "from skorch.callbacks import Checkpoint, EarlyStopping, EpochScoring\n",
        "from braindecode import EEGClassifier\n",
        "\n",
        "lr = 1e-3\n",
        "batch_size = 512  # 512 if data large enough\n",
        "n_epochs = 10\n",
        "num_workers = 0 if n_jobs <= 1 else n_jobs\n",
        "\n",
        "import datetime\n",
        "now = datetime.datetime.now()\n",
        "f_params_name = 'best_model_params_'+str(now)+'.pt'\n",
        "print(f_params_name)\n",
        "\n",
        "cp = Checkpoint(dirname='../ssl_pt/', f_params=f_params_name, f_criterion=None, f_optimizer=None, f_history=None)\n",
        "early_stopping = EarlyStopping(patience=10)\n",
        "train_acc = EpochScoring(\n",
        "    scoring='accuracy', on_train=True, name='train_acc', lower_is_better=False)\n",
        "valid_acc = EpochScoring(\n",
        "    scoring='accuracy', on_train=False, name='valid_acc',\n",
        "    lower_is_better=False)\n",
        "callbacks = [\n",
        "    ('cp', cp),\n",
        "    ('patience', early_stopping),\n",
        "    ('train_acc', train_acc),\n",
        "    ('valid_acc', valid_acc)\n",
        "]\n",
        "\n",
        "clf = EEGClassifier(\n",
        "    model,\n",
        "    criterion=torch.nn.BCEWithLogitsLoss,\n",
        "    optimizer=torch.optim.Adam,\n",
        "    max_epochs=n_epochs,\n",
        "    iterator_train__shuffle=False,\n",
        "    iterator_train__sampler=train_sampler,\n",
        "    iterator_valid__sampler=valid_sampler,\n",
        "    iterator_train__num_workers=num_workers,\n",
        "    iterator_valid__num_workers=num_workers,\n",
        "    train_split=predefined_split(splitted['valid']),\n",
        "    optimizer__lr=lr,\n",
        "    batch_size=batch_size,\n",
        "    callbacks=callbacks,\n",
        "    device=device\n",
        ")\n",
        "# Model training for a specified number of epochs. `y` is None as it is already\n",
        "# supplied in the dataset.\n",
        "clf.fit(splitted['train'], y=None)\n",
        "clf.load_params(checkpoint=cp)  # Load the model with the lowest valid_loss\n",
        "\n",
        "# os.remove('./params.pt')  # Delete parameters file"
      ]
    },
    {
      "cell_type": "markdown",
      "metadata": {},
      "source": [
        "## Visualizing the results\n",
        "\n",
        "### Inspecting pretext task performance\n",
        "\n",
        "We plot the loss and pretext task performance for the training and validation\n",
        "sets.\n",
        "\n"
      ]
    },
    {
      "cell_type": "code",
      "execution_count": 22,
      "metadata": {
        "collapsed": false
      },
      "outputs": [
        {
          "data": {
            "image/png": "[encoded data removed]",
            "text/plain": [
              "<Figure size 576x216 with 2 Axes>"
            ]
          },
          "metadata": {},
          "output_type": "display_data"
        }
      ],
      "source": [
        "import matplotlib.pyplot as plt\n",
        "import pandas as pd\n",
        "\n",
        "# Extract loss and balanced accuracy values for plotting from history object\n",
        "df = pd.DataFrame(clf.history.to_list())\n",
        "\n",
        "df['train_acc'] *= 100\n",
        "df['valid_acc'] *= 100\n",
        "\n",
        "ys1 = ['train_loss', 'valid_loss']\n",
        "ys2 = ['train_acc', 'valid_acc']\n",
        "styles = ['-', ':']\n",
        "markers = ['.', '.']\n",
        "\n",
        "plt.style.use('seaborn-talk')\n",
        "\n",
        "fig, ax1 = plt.subplots(figsize=(8, 3))\n",
        "ax2 = ax1.twinx()\n",
        "for y1, y2, style, marker in zip(ys1, ys2, styles, markers):\n",
        "    ax1.plot(df['epoch'], df[y1], ls=style, marker=marker, ms=7,\n",
        "             c='tab:blue', label=y1)\n",
        "    ax2.plot(df['epoch'], df[y2], ls=style, marker=marker, ms=7,\n",
        "             c='tab:orange', label=y2)\n",
        "\n",
        "ax1.tick_params(axis='y', labelcolor='tab:blue')\n",
        "ax1.set_ylabel('Loss', color='tab:blue')\n",
        "ax2.tick_params(axis='y', labelcolor='tab:orange')\n",
        "ax2.set_ylabel('Accuracy [%]', color='tab:orange')\n",
        "ax1.set_xlabel('Epoch')\n",
        "\n",
        "lines1, labels1 = ax1.get_legend_handles_labels()\n",
        "lines2, labels2 = ax2.get_legend_handles_labels()\n",
        "ax2.legend(lines1 + lines2, labels1 + labels2)\n",
        "\n",
        "plt.tight_layout()"
      ]
    },
    {
      "cell_type": "markdown",
      "metadata": {},
      "source": [
        "We also display the confusion matrix and classification report for the\n",
        "pretext task:\n",
        "\n"
      ]
    },
    {
      "cell_type": "code",
      "execution_count": 23,
      "metadata": {
        "collapsed": false
      },
      "outputs": [
        {
          "name": "stdout",
          "output_type": "stream",
          "text": [
            "[[4155 5125]\n",
            " [4301 5169]]\n",
            "              precision    recall  f1-score   support\n",
            "\n",
            "         0.0       0.49      0.45      0.47      9280\n",
            "         1.0       0.50      0.55      0.52      9470\n",
            "\n",
            "    accuracy                           0.50     18750\n",
            "   macro avg       0.50      0.50      0.50     18750\n",
            "weighted avg       0.50      0.50      0.50     18750\n",
            "\n"
          ]
        }
      ],
      "source": [
        "from sklearn.metrics import confusion_matrix\n",
        "from sklearn.metrics import classification_report\n",
        "\n",
        "# Switch to the test sampler\n",
        "clf.iterator_valid__sampler = test_sampler\n",
        "y_pred = clf.forward(splitted['test'], training=False) > 0\n",
        "y_true = [y for _, _, y in test_sampler]\n",
        "\n",
        "print(confusion_matrix(y_true, y_pred))\n",
        "print(classification_report(y_true, y_pred))"
      ]
    },
    {
      "cell_type": "markdown",
      "metadata": {},
      "source": [
        "### Using the learned representation for sleep staging\n",
        "\n",
        "We can now use the trained convolutional neural network as a feature\n",
        "extractor. We perform sleep stage classification from the learned feature\n",
        "representation using a linear logistic regression classifier.\n",
        "\n"
      ]
    },
    {
      "cell_type": "code",
      "execution_count": 24,
      "metadata": {},
      "outputs": [],
      "source": [
        "# clf.initialize()  # This is important!"
      ]
    },
    {
      "cell_type": "code",
      "execution_count": 25,
      "metadata": {
        "collapsed": false
      },
      "outputs": [
        {
          "name": "stdout",
          "output_type": "stream",
          "text": [
            "Sleep staging performance with logistic regression:\n",
            "Train bal acc: 0.5389\n",
            "Valid bal acc: 0.3053\n",
            "Test bal acc: 0.3547\n",
            "Results on test set:\n",
            "[[24 33 27]\n",
            " [13 31 28]\n",
            " [20 25 24]]\n",
            "              precision    recall  f1-score   support\n",
            "\n",
            "           0       0.42      0.29      0.34        84\n",
            "           1       0.35      0.43      0.39        72\n",
            "           2       0.30      0.35      0.32        69\n",
            "\n",
            "    accuracy                           0.35       225\n",
            "   macro avg       0.36      0.35      0.35       225\n",
            "weighted avg       0.36      0.35      0.35       225\n",
            "\n"
          ]
        },
        {
          "name": "stderr",
          "output_type": "stream",
          "text": [
            "/home/mila/m/mohammad-javad.darvishi-bayasi/.conda/envs/braindecode/lib/python3.8/site-packages/sklearn/linear_model/_logistic.py:444: ConvergenceWarning: lbfgs failed to converge (status=1):\n",
            "STOP: TOTAL NO. of ITERATIONS REACHED LIMIT.\n",
            "\n",
            "Increase the number of iterations (max_iter) or scale the data as shown in:\n",
            "    https://scikit-learn.org/stable/modules/preprocessing.html\n",
            "Please also refer to the documentation for alternative solver options:\n",
            "    https://scikit-learn.org/stable/modules/linear_model.html#logistic-regression\n",
            "  n_iter_i = _check_optimize_result(\n"
          ]
        }
      ],
      "source": [
        "from torch.utils.data import DataLoader\n",
        "from sklearn.metrics import balanced_accuracy_score\n",
        "from sklearn.linear_model import LogisticRegression\n",
        "from sklearn.preprocessing import StandardScaler\n",
        "from sklearn.pipeline import make_pipeline\n",
        "\n",
        "# Extract features with the trained embedder\n",
        "data = dict()\n",
        "for name, split in splitted.items():\n",
        "    split.return_pair = False  # Return single windows\n",
        "    loader = DataLoader(split, batch_size=batch_size, num_workers=num_workers)\n",
        "    with torch.no_grad():\n",
        "        feats = [emb(batch_x.to(device)).cpu().numpy()\n",
        "                 for batch_x, _, _ in loader]\n",
        "    data[name] = (np.concatenate(feats), split.get_metadata()['target'].values)\n",
        "\n",
        "# Initialize the logistic regression model\n",
        "log_reg = LogisticRegression(\n",
        "    penalty='l2', C=1.0, class_weight='balanced', solver='lbfgs',\n",
        "    multi_class='multinomial', random_state=random_state)\n",
        "clf_pipe = make_pipeline(StandardScaler(), log_reg)\n",
        "\n",
        "# Fit and score the logistic regression\n",
        "clf_pipe.fit(*data['train'])\n",
        "train_y_pred = clf_pipe.predict(data['train'][0])\n",
        "valid_y_pred = clf_pipe.predict(data['valid'][0])\n",
        "test_y_pred = clf_pipe.predict(data['test'][0])\n",
        "\n",
        "train_bal_acc = balanced_accuracy_score(data['train'][1], train_y_pred)\n",
        "valid_bal_acc = balanced_accuracy_score(data['valid'][1], valid_y_pred)\n",
        "test_bal_acc = balanced_accuracy_score(data['test'][1], test_y_pred)\n",
        "\n",
        "print('Sleep staging performance with logistic regression:')\n",
        "print(f'Train bal acc: {train_bal_acc:0.4f}')\n",
        "print(f'Valid bal acc: {valid_bal_acc:0.4f}')\n",
        "print(f'Test bal acc: {test_bal_acc:0.4f}')\n",
        "\n",
        "print('Results on test set:')\n",
        "print(confusion_matrix(data['test'][1], test_y_pred))\n",
        "print(classification_report(data['test'][1], test_y_pred))"
      ]
    },
    {
      "cell_type": "markdown",
      "metadata": {},
      "source": [
        "The balanced accuracy is much higher than chance-level (i.e., 20% for our\n",
        "5-class classification problem). Finally, we perform a quick 2D visualization\n",
        "of the feature space using a PCA:\n",
        "\n"
      ]
    },
    {
      "cell_type": "code",
      "execution_count": 26,
      "metadata": {
        "collapsed": false
      },
      "outputs": [
        {
          "data": {
            "text/plain": [
              "<matplotlib.legend.Legend at 0x7f2e1c5b60a0>"
            ]
          },
          "execution_count": 26,
          "metadata": {},
          "output_type": "execute_result"
        },
        {
          "data": {
            "image/png": "[encoded data removed]",
            "text/plain": [
              "<Figure size 748.8x514.8 with 1 Axes>"
            ]
          },
          "metadata": {
            "needs_background": "light"
          },
          "output_type": "display_data"
        }
      ],
      "source": [
        "from sklearn.decomposition import PCA\n",
        "from matplotlib import cm\n",
        "\n",
        "X = np.concatenate([v[0] for k, v in data.items()])\n",
        "y = np.concatenate([v[1] for k, v in data.items()])\n",
        "\n",
        "pca = PCA(n_components=2)\n",
        "# tsne = TSNE(n_components=2)\n",
        "components = pca.fit_transform(X)\n",
        "\n",
        "fig, ax = plt.subplots()\n",
        "colors = cm.get_cmap('viridis', 3)(range(3))\n",
        "for i, stage in enumerate(['1', '2', '3']):#, 'N2', 'N3', 'R']):\n",
        "    mask = y == i\n",
        "    ax.scatter(components[mask, 0], components[mask, 1], s=10, alpha=0.7,\n",
        "               color=colors[i], label=stage)\n",
        "ax.legend()"
      ]
    },
    {
      "cell_type": "markdown",
      "metadata": {},
      "source": [
        "We see that there is sleep stage-related structure in the embedding. A\n",
        "nonlinear projection method (e.g., tSNE, UMAP) might yield more insightful\n",
        "visualizations. Using a similar approach, the embedding space could also be\n",
        "explored with respect to subject-level features, e.g., age and sex.\n",
        "\n",
        "## Conclusion\n",
        "\n",
        "In this example, we used self-supervised learning (SSL) as a way to learn\n",
        "representations from unlabelled raw EEG data. Specifically, we used the\n",
        "relative positioning (RP) pretext task to train a feature extractor on a\n",
        "subset of the Sleep Physionet dataset. We then reused these features in a\n",
        "downstream sleep staging task. We achieved reasonable downstream performance\n",
        "and further showed with a 2D projection that the learned embedding space\n",
        "contained sleep-related structure.\n",
        "\n",
        "Many avenues could be taken to improve on these results. For instance, using\n",
        "the entire Sleep Physionet dataset or training on larger datasets should help\n",
        "the feature extractor learn better representations during the pretext task.\n",
        "Other SSL tasks such as those described in [1]_ could further help discover\n",
        "more powerful features.\n",
        "\n",
        "\n",
        "## References\n",
        "\n",
        ".. [1] Banville, H., Chehab, O., Hyvärinen, A., Engemann, D. A., & Gramfort, A.\n",
        "      (2020). Uncovering the structure of clinical EEG signals with\n",
        "      self-supervised learning. arXiv preprint arXiv:2007.16104.\n",
        "\n",
        ".. [2] Kemp, B., Zwinderman, A. H., Tuk, B., Kamphuisen, H. A., & Oberye, J. J.\n",
        "       (2000). Analysis of a sleep-dependent neuronal feedback loop: the\n",
        "       slow-wave microcontinuity of the EEG. IEEE Transactions on Biomedical\n",
        "       Engineering, 47(9), 1185-1194.\n",
        "\n",
        ".. [3] Goldberger, A. L., Amaral, L. A., Glass, L., Hausdorff, J. M., Ivanov,\n",
        "       P. C., Mark, R. G., ... & Stanley, H. E. (2000). PhysioBank,\n",
        "       PhysioToolkit, and PhysioNet: components of a new research resource for\n",
        "       complex physiologic signals. circulation, 101(23), e215-e220.\n",
        "\n",
        ".. [4] Chambon, S., Galtier, M., Arnal, P., Wainrib, G. and Gramfort, A.\n",
        "      (2018)A Deep Learning Architecture for Temporal Sleep Stage\n",
        "      Classification Using Multivariate and Multimodal Time Series.\n",
        "      IEEE Trans. on Neural Systems and Rehabilitation Engineering 26:\n",
        "      (758-769)\n",
        "\n",
        "\n"
      ]
    }
  ],
  "metadata": {
    "kernelspec": {
      "display_name": "Python 3",
      "language": "python",
      "name": "python3"
    },
    "language_info": {
      "codemirror_mode": {
        "name": "ipython",
        "version": 3
      },
      "file_extension": ".py",
      "mimetype": "text/x-python",
      "name": "python",
      "nbconvert_exporter": "python",
      "pygments_lexer": "ipython3",
      "version": "3.8.5"
    }
  },
  "nbformat": 4,
  "nbformat_minor": 0
}
