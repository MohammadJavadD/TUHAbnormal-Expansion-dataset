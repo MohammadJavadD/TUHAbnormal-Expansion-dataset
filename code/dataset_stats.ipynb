{
 "cells": [
  {
   "cell_type": "code",
   "execution_count": null,
   "metadata": {},
   "outputs": [],
   "source": [
    "import numpy as np\n",
    "import pandas as pd\n",
    "import matplotlib.pyplot as plt\n",
    "from matplotlib.patches import Rectangle\n",
    "\n",
    "# Import seaborn and matplotlib\n",
    "import seaborn as sns\n",
    "import matplotlib.pyplot as plt\n",
    "import seaborn as sns\n",
    "import matplotlib.pyplot as plt\n",
    "from matplotlib.lines import Line2D\n",
    "import pandas as pd\n",
    "import matplotlib.pyplot as plt\n",
    "from matplotlib.patches import Rectangle"
   ]
  },
  {
   "cell_type": "markdown",
   "metadata": {},
   "source": [
    "NMT"
   ]
  },
  {
   "cell_type": "code",
   "execution_count": null,
   "metadata": {},
   "outputs": [],
   "source": [
    "df = pd.read_csv('Labels.csv')\n",
    "# df = df.query('loc==\"eval\"')\n",
    "# male_norm = df.query('gender==\"male\" and label==\"normal\"')\n",
    "# male_abnm = df.query('gender==\"male\" and label==\"abnormal\"')\n",
    "# female_norm = df.query('gender==\"female\" and label==\"normal\"')\n",
    "# male_abnm = df.query('gender==\"male\" and label==\"abnormal\"')\n",
    "# n_bins = 21\n",
    "# d_labels = ['Normal', 'Abnormal']"
   ]
  },
  {
   "cell_type": "markdown",
   "metadata": {},
   "source": [
    "violin plots"
   ]
  },
  {
   "cell_type": "code",
   "execution_count": null,
   "metadata": {},
   "outputs": [],
   "source": [
    "df = pd.read_csv('Labels.csv')\n",
    "# df = df.query('loc==\"eval\"')\n",
    "# male_norm = df.query('gender==\"male\" and label==\"normal\"')\n",
    "# male_abnm = df.query('gender==\"male\" and label==\"abnormal\"')\n",
    "# male_norm = df.query('gender==\"female\" and label==\"normal\"')\n",
    "# female_abnm = df.query('gender==\"female\" and label==\"abnormal\"')\n",
    "\n",
    "# Find the index of the rows to delete\n",
    "index = df.index[df.gender == 'not specified']\n",
    "\n",
    "# Delete the rows by index\n",
    "df.drop(index, inplace=True)\n",
    "\n",
    "# Rename the column name from loc to split\n",
    "df.rename(columns={\"loc\": \"split\"}, inplace=True)\n",
    "\n",
    "df.head()"
   ]
  },
  {
   "cell_type": "code",
   "execution_count": null,
   "metadata": {},
   "outputs": [],
   "source": [
    "df.groupby([\"split\",'label']).count()"
   ]
  },
  {
   "cell_type": "code",
   "execution_count": null,
   "metadata": {},
   "outputs": [],
   "source": [
    "# Create a count plot with hue\n",
    "# sns.catplot(data=df, x=\"\",y=\"age\", hue=\"label\",col='split', kind=\"violin\", split=True)\n",
    "fig_1 = sns.catplot(data=df, x=\"split\",y=\"age\", hue=\"label\",col='gender', kind=\"violin\", split=True,scale=\"count\")\n",
    "\n",
    "# Group the DataFrame by the columns of interest\n",
    "df_grouped = df.groupby([\"gender\", \"split\", \"label\"])\n",
    "\n",
    "# Get the count of each group\n",
    "count = df_grouped.size()\n",
    "\n",
    "total = count[\"male\", \"train\", \"abnormal\"]\n",
    "fig_1.axes_dict['male'].text(-.250, -20, f\"Total: {total}\", fontsize=12, color=\"black\", ha=\"center\")\n",
    "total = count[\"male\", \"train\", \"normal\"]\n",
    "fig_1.axes_dict['male'].text(0.250, -20, f\"Total: {total}\", fontsize=12, color=\"black\", ha=\"center\")\n",
    "total = count[\"male\", \"eval\", \"abnormal\"]\n",
    "fig_1.axes_dict['male'].text(0.750, -20, f\"Total: {total}\", fontsize=12, color=\"black\", ha=\"center\")\n",
    "total = count[\"male\", \"eval\", \"normal\"]\n",
    "fig_1.axes_dict['male'].text(1.25, -20, f\"Total: {total}\", fontsize=12, color=\"black\", ha=\"center\")\n",
    "\n",
    "total = count[\"female\", \"train\", \"abnormal\"]\n",
    "fig_1.axes_dict['female'].text(-.250, -20, f\"Total: {total}\", fontsize=12, color=\"black\", ha=\"center\")\n",
    "total = count[\"female\", \"train\", \"normal\"]\n",
    "fig_1.axes_dict['female'].text(0.250, -20, f\"Total: {total}\", fontsize=12, color=\"black\", ha=\"center\")\n",
    "total = count[\"female\", \"eval\", \"abnormal\"]\n",
    "fig_1.axes_dict['female'].text(0.750, -20, f\"Total: {total}\", fontsize=12, color=\"black\", ha=\"center\")\n",
    "total = count[\"female\", \"eval\", \"normal\"]\n",
    "fig_1.axes_dict['female'].text(1.25, -20, f\"Total: {total}\", fontsize=12, color=\"black\", ha=\"center\")\n",
    "\n",
    "# save the figure as an SVG file\n",
    "plt.savefig(\"../output/datastats_nmt.svg\", format=\"svg\")\n",
    "\n",
    "# Show the plot\n",
    "# plt.show()\n"
   ]
  },
  {
   "cell_type": "markdown",
   "metadata": {},
   "source": [
    "TUH"
   ]
  },
  {
   "cell_type": "code",
   "execution_count": null,
   "metadata": {},
   "outputs": [],
   "source": [
    "from braindecode.datautil import load_concat_dataset\n",
    "import mne\n",
    "mne.set_log_level('ERROR')  # avoid messages everytime a window is extracted\n",
    "\n",
    "TUH_PATH_pp = '/home/mila/m/mohammad-javad.darvishi-bayasi/scratch/medical/eeg/tuab/tuab_pp3'\n",
    "\n",
    "# tuh_preproc = load_concat_dataset(\n",
    "#     path=TUH_PATH_pp,\n",
    "#     preload=False,\n",
    "#     # ids_to_load=range(50), #or None to load the whole dataset,\n",
    "#     target_name=( 'pathological'),#,'age','gender'),  # 'age', 'gender',\n",
    "# )\n",
    "tuh_preproc.description\n",
    "selected_ds = tuh_preproc"
   ]
  },
  {
   "cell_type": "code",
   "execution_count": null,
   "metadata": {},
   "outputs": [],
   "source": [
    "df_tuh = tuh_preproc.description\n",
    "df_tuh.head(5)"
   ]
  },
  {
   "cell_type": "code",
   "execution_count": null,
   "metadata": {},
   "outputs": [],
   "source": [
    "df_tuh_sim_nmt = pd.DataFrame(columns=[\"label\", \"age\", \"gender\", \"split\"])\n",
    "df_tuh_sim_nmt.assign(label= df_tuh.pathological.astype(str))\n",
    "df_tuh_sim_nmt = df_tuh_sim_nmt.assign(label=df_tuh['pathological'].map(lambda x: 'abnormal' if x == True else 'normal' if x == False else None))\n",
    "df_tuh_sim_nmt = df_tuh_sim_nmt.assign(age=df_tuh['age'])\n",
    "df_tuh_sim_nmt = df_tuh_sim_nmt.assign(gender=df_tuh['gender'].map(lambda x: 'female' if x == 'F' else'male' if x == 'M' else None))\n",
    "df_tuh_sim_nmt = df_tuh_sim_nmt.assign(split=df_tuh['train'].map(lambda x: 'train' if x == True else 'eval' if x == False else None))\n",
    "df = df_tuh_sim_nmt\n",
    "df.head()"
   ]
  },
  {
   "cell_type": "code",
   "execution_count": null,
   "metadata": {},
   "outputs": [],
   "source": [
    "df.groupby([\"split\",'label']).count()"
   ]
  },
  {
   "cell_type": "code",
   "execution_count": null,
   "metadata": {},
   "outputs": [],
   "source": [
    "# Create a count plot with hue\n",
    "# sns.catplot(data=df, x=\"\",y=\"age\", hue=\"label\",col='split', kind=\"violin\", split=True)\n",
    "fig_1 = sns.catplot(data=df, x=\"split\",y=\"age\", hue=\"label\",col='gender', kind=\"violin\", split=True,scale=\"count\")\n",
    "\n",
    "# Group the DataFrame by the columns of interest\n",
    "df_grouped = df.groupby([\"gender\", \"split\", \"label\"])\n",
    "\n",
    "# Get the count of each group\n",
    "count = df_grouped.size()\n",
    "\n",
    "total = count[\"male\", \"train\", \"abnormal\"]\n",
    "fig_1.axes_dict['male'].text(-.250, 0, f\"Total: {total}\", fontsize=12, color=\"black\", ha=\"center\")\n",
    "total = count[\"male\", \"train\", \"normal\"]\n",
    "fig_1.axes_dict['male'].text(0.250, 0, f\"Total: {total}\", fontsize=12, color=\"black\", ha=\"center\")\n",
    "total = count[\"male\", \"eval\", \"abnormal\"]\n",
    "fig_1.axes_dict['male'].text(0.750, 0, f\"Total: {total}\", fontsize=12, color=\"black\", ha=\"center\")\n",
    "total = count[\"male\", \"eval\", \"normal\"]\n",
    "fig_1.axes_dict['male'].text(1.25, 0, f\"Total: {total}\", fontsize=12, color=\"black\", ha=\"center\")\n",
    "\n",
    "total = count[\"female\", \"train\", \"abnormal\"]\n",
    "fig_1.axes_dict['female'].text(-.250, 0, f\"Total: {total}\", fontsize=12, color=\"black\", ha=\"center\")\n",
    "total = count[\"female\", \"train\", \"normal\"]\n",
    "fig_1.axes_dict['female'].text(0.250, 0, f\"Total: {total}\", fontsize=12, color=\"black\", ha=\"center\")\n",
    "total = count[\"female\", \"eval\", \"abnormal\"]\n",
    "fig_1.axes_dict['female'].text(0.750, 0, f\"Total: {total}\", fontsize=12, color=\"black\", ha=\"center\")\n",
    "total = count[\"female\", \"eval\", \"normal\"]\n",
    "fig_1.axes_dict['female'].text(1.25, 0, f\"Total: {total}\", fontsize=12, color=\"black\", ha=\"center\")\n",
    "\n",
    "# save the figure as an SVG file\n",
    "plt.savefig(\"../output/datastats_tuh.svg\", format=\"svg\")\n",
    "\n",
    "# Show the plot\n",
    "# plt.show()\n"
   ]
  },
  {
   "cell_type": "code",
   "execution_count": null,
   "metadata": {},
   "outputs": [],
   "source": [
    "total = df.groupby(['split', 'gender', 'label']).count()\n",
    "a = total['age']\n",
    "a.keys"
   ]
  }
 ],
 "metadata": {
  "kernelspec": {
   "display_name": "Python 3",
   "language": "python",
   "name": "python3"
  },
  "language_info": {
   "codemirror_mode": {
    "name": "ipython",
    "version": 3
   },
   "file_extension": ".py",
   "mimetype": "text/x-python",
   "name": "python",
   "nbconvert_exporter": "python",
   "pygments_lexer": "ipython3",
   "version": "3.8.5"
  },
  "orig_nbformat": 4
 },
 "nbformat": 4,
 "nbformat_minor": 2
}
